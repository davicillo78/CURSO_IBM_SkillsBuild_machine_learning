{
 "cells": [
  {
   "cell_type": "markdown",
   "id": "dfd2f20b",
   "metadata": {},
   "source": [
    "# KNN - K vecinos más cercanos #\n",
    "\n",
    "Algoritmo de aprendizaje supervisado que estima la probabilidad de que un elemento \"x\" pertenezca a una clase \"c\" a partir de la información proporcionada, basandose en los elementos cercanos al que queremos clasificar. Puede trabajar con cualquier número de clases."
   ]
  },
  {
   "cell_type": "code",
   "execution_count": 33,
   "id": "5be23db6",
   "metadata": {},
   "outputs": [],
   "source": [
    "import pandas as pd\n",
    "import numpy as np\n",
    "import matplotlib.pyplot as plt\n",
    "import seaborn as sns"
   ]
  },
  {
   "cell_type": "markdown",
   "id": "39779259",
   "metadata": {},
   "source": [
    "## Sitios para buscar datasets ##\n",
    "\n",
    "- [Kaggle](https://www.kaggle.com)\n"
   ]
  },
  {
   "cell_type": "code",
   "execution_count": 40,
   "id": "e2f246e8",
   "metadata": {},
   "outputs": [
    {
     "data": {
      "text/html": [
       "<div>\n",
       "<style scoped>\n",
       "    .dataframe tbody tr th:only-of-type {\n",
       "        vertical-align: middle;\n",
       "    }\n",
       "\n",
       "    .dataframe tbody tr th {\n",
       "        vertical-align: top;\n",
       "    }\n",
       "\n",
       "    .dataframe thead th {\n",
       "        text-align: right;\n",
       "    }\n",
       "</style>\n",
       "<table border=\"1\" class=\"dataframe\">\n",
       "  <thead>\n",
       "    <tr style=\"text-align: right;\">\n",
       "      <th></th>\n",
       "      <th>compactness</th>\n",
       "      <th>circularity</th>\n",
       "      <th>distance_circularity</th>\n",
       "      <th>radius_ratio</th>\n",
       "      <th>pr_axis_aspect_ratio</th>\n",
       "      <th>max_length_aspect_ratio</th>\n",
       "      <th>scatter_ratio</th>\n",
       "      <th>elongatedness</th>\n",
       "      <th>pr_axis_rectangularity</th>\n",
       "      <th>max_length_rectangularity</th>\n",
       "      <th>scaled_variance_major_axis</th>\n",
       "      <th>scaled_variance_minor_axis</th>\n",
       "      <th>scaled_radius_gyration</th>\n",
       "      <th>skewness_major_axis</th>\n",
       "      <th>skewness_minor_axis</th>\n",
       "      <th>kurtosis_minor_axis</th>\n",
       "      <th>kurtosis_major_axis</th>\n",
       "      <th>hollows_ratio</th>\n",
       "      <th>vehicle_class</th>\n",
       "    </tr>\n",
       "  </thead>\n",
       "  <tbody>\n",
       "    <tr>\n",
       "      <th>0</th>\n",
       "      <td>95.0</td>\n",
       "      <td>48.0</td>\n",
       "      <td>83.0</td>\n",
       "      <td>178.0</td>\n",
       "      <td>72.0</td>\n",
       "      <td>10.0</td>\n",
       "      <td>162.0</td>\n",
       "      <td>42.0</td>\n",
       "      <td>20.0</td>\n",
       "      <td>159.0</td>\n",
       "      <td>176.0</td>\n",
       "      <td>379.0</td>\n",
       "      <td>184.0</td>\n",
       "      <td>70.0</td>\n",
       "      <td>6.0</td>\n",
       "      <td>16.0</td>\n",
       "      <td>187.0</td>\n",
       "      <td>197.0</td>\n",
       "      <td>van</td>\n",
       "    </tr>\n",
       "    <tr>\n",
       "      <th>1</th>\n",
       "      <td>91.0</td>\n",
       "      <td>41.0</td>\n",
       "      <td>84.0</td>\n",
       "      <td>141.0</td>\n",
       "      <td>57.0</td>\n",
       "      <td>9.0</td>\n",
       "      <td>149.0</td>\n",
       "      <td>45.0</td>\n",
       "      <td>19.0</td>\n",
       "      <td>143.0</td>\n",
       "      <td>170.0</td>\n",
       "      <td>330.0</td>\n",
       "      <td>158.0</td>\n",
       "      <td>72.0</td>\n",
       "      <td>9.0</td>\n",
       "      <td>14.0</td>\n",
       "      <td>189.0</td>\n",
       "      <td>199.0</td>\n",
       "      <td>van</td>\n",
       "    </tr>\n",
       "    <tr>\n",
       "      <th>2</th>\n",
       "      <td>104.0</td>\n",
       "      <td>50.0</td>\n",
       "      <td>106.0</td>\n",
       "      <td>209.0</td>\n",
       "      <td>66.0</td>\n",
       "      <td>10.0</td>\n",
       "      <td>207.0</td>\n",
       "      <td>32.0</td>\n",
       "      <td>23.0</td>\n",
       "      <td>158.0</td>\n",
       "      <td>223.0</td>\n",
       "      <td>635.0</td>\n",
       "      <td>220.0</td>\n",
       "      <td>73.0</td>\n",
       "      <td>14.0</td>\n",
       "      <td>9.0</td>\n",
       "      <td>188.0</td>\n",
       "      <td>196.0</td>\n",
       "      <td>saab</td>\n",
       "    </tr>\n",
       "    <tr>\n",
       "      <th>3</th>\n",
       "      <td>93.0</td>\n",
       "      <td>41.0</td>\n",
       "      <td>82.0</td>\n",
       "      <td>159.0</td>\n",
       "      <td>63.0</td>\n",
       "      <td>9.0</td>\n",
       "      <td>144.0</td>\n",
       "      <td>46.0</td>\n",
       "      <td>19.0</td>\n",
       "      <td>143.0</td>\n",
       "      <td>160.0</td>\n",
       "      <td>309.0</td>\n",
       "      <td>127.0</td>\n",
       "      <td>63.0</td>\n",
       "      <td>6.0</td>\n",
       "      <td>10.0</td>\n",
       "      <td>199.0</td>\n",
       "      <td>207.0</td>\n",
       "      <td>van</td>\n",
       "    </tr>\n",
       "    <tr>\n",
       "      <th>4</th>\n",
       "      <td>85.0</td>\n",
       "      <td>44.0</td>\n",
       "      <td>70.0</td>\n",
       "      <td>205.0</td>\n",
       "      <td>103.0</td>\n",
       "      <td>52.0</td>\n",
       "      <td>149.0</td>\n",
       "      <td>45.0</td>\n",
       "      <td>19.0</td>\n",
       "      <td>144.0</td>\n",
       "      <td>241.0</td>\n",
       "      <td>325.0</td>\n",
       "      <td>188.0</td>\n",
       "      <td>127.0</td>\n",
       "      <td>9.0</td>\n",
       "      <td>11.0</td>\n",
       "      <td>180.0</td>\n",
       "      <td>183.0</td>\n",
       "      <td>bus</td>\n",
       "    </tr>\n",
       "  </tbody>\n",
       "</table>\n",
       "</div>"
      ],
      "text/plain": [
       "   compactness  circularity  distance_circularity  radius_ratio  \\\n",
       "0         95.0         48.0                  83.0         178.0   \n",
       "1         91.0         41.0                  84.0         141.0   \n",
       "2        104.0         50.0                 106.0         209.0   \n",
       "3         93.0         41.0                  82.0         159.0   \n",
       "4         85.0         44.0                  70.0         205.0   \n",
       "\n",
       "   pr_axis_aspect_ratio  max_length_aspect_ratio  scatter_ratio  \\\n",
       "0                  72.0                     10.0          162.0   \n",
       "1                  57.0                      9.0          149.0   \n",
       "2                  66.0                     10.0          207.0   \n",
       "3                  63.0                      9.0          144.0   \n",
       "4                 103.0                     52.0          149.0   \n",
       "\n",
       "   elongatedness  pr_axis_rectangularity  max_length_rectangularity  \\\n",
       "0           42.0                    20.0                      159.0   \n",
       "1           45.0                    19.0                      143.0   \n",
       "2           32.0                    23.0                      158.0   \n",
       "3           46.0                    19.0                      143.0   \n",
       "4           45.0                    19.0                      144.0   \n",
       "\n",
       "   scaled_variance_major_axis  scaled_variance_minor_axis  \\\n",
       "0                       176.0                       379.0   \n",
       "1                       170.0                       330.0   \n",
       "2                       223.0                       635.0   \n",
       "3                       160.0                       309.0   \n",
       "4                       241.0                       325.0   \n",
       "\n",
       "   scaled_radius_gyration  skewness_major_axis  skewness_minor_axis  \\\n",
       "0                   184.0                 70.0                  6.0   \n",
       "1                   158.0                 72.0                  9.0   \n",
       "2                   220.0                 73.0                 14.0   \n",
       "3                   127.0                 63.0                  6.0   \n",
       "4                   188.0                127.0                  9.0   \n",
       "\n",
       "   kurtosis_minor_axis  kurtosis_major_axis  hollows_ratio vehicle_class  \n",
       "0                 16.0                187.0          197.0           van  \n",
       "1                 14.0                189.0          199.0           van  \n",
       "2                  9.0                188.0          196.0          saab  \n",
       "3                 10.0                199.0          207.0           van  \n",
       "4                 11.0                180.0          183.0           bus  "
      ]
     },
     "execution_count": 40,
     "metadata": {},
     "output_type": "execute_result"
    }
   ],
   "source": [
    "dataframe = pd.read_csv(r'C:\\\\Users\\\\David\\\\PYTHON\\CURSO_IBM_SkillsBuild_Machine_Learning\\\\archivos\\\\vehiculos.csv')\n",
    "# Se muestra el dataframe original\n",
    "dataframe.head()\n"
   ]
  },
  {
   "cell_type": "code",
   "execution_count": 41,
   "id": "c33d946f",
   "metadata": {},
   "outputs": [
    {
     "data": {
      "text/plain": [
       "array(['van', 'saab', 'bus', 'opel'], dtype=object)"
      ]
     },
     "execution_count": 41,
     "metadata": {},
     "output_type": "execute_result"
    }
   ],
   "source": [
    "dataframe['vehicle_class'].unique()\n",
    "#Mostrando los tipos de vehiculos que hay en el dataframe"
   ]
  },
  {
   "cell_type": "code",
   "execution_count": 48,
   "id": "b7099187",
   "metadata": {},
   "outputs": [],
   "source": [
    "y = dataframe['vehicle_class']\n",
    "X = dataframe.drop('vehicle_class', axis=1)\n",
    "# Separamos la variable dependiente de las independientes"
   ]
  },
  {
   "cell_type": "code",
   "execution_count": 49,
   "id": "1c012eb9",
   "metadata": {},
   "outputs": [],
   "source": [
    "from sklearn.model_selection import train_test_split\n",
    "# Separa los datos en conjuntos de entrenamiento y prueba\n",
    "X_train, X_test, y_train, y_test = train_test_split(X, y, test_size=0.3, random_state=42)"
   ]
  },
  {
   "cell_type": "code",
   "execution_count": 53,
   "id": "364963db",
   "metadata": {},
   "outputs": [
    {
     "data": {
      "text/plain": [
       "array(['bus', 'van', 'bus', 'van', 'bus', 'van', 'bus', 'saab', 'bus',\n",
       "       'opel', 'saab', 'bus', 'bus', 'saab', 'saab', 'saab', 'bus', 'bus',\n",
       "       'opel', 'saab', 'van', 'van', 'opel', 'opel', 'opel', 'opel',\n",
       "       'van', 'van', 'van', 'van', 'saab', 'van', 'bus', 'van', 'van',\n",
       "       'bus', 'saab', 'saab', 'bus', 'opel', 'van', 'bus', 'opel', 'van',\n",
       "       'saab', 'opel', 'bus', 'van', 'bus', 'saab', 'bus', 'bus', 'opel',\n",
       "       'van', 'bus', 'saab', 'saab', 'opel', 'opel', 'bus', 'bus', 'opel',\n",
       "       'opel', 'saab', 'bus', 'bus', 'saab', 'opel', 'saab', 'saab',\n",
       "       'opel', 'bus', 'saab', 'bus', 'van', 'opel', 'saab', 'opel',\n",
       "       'opel', 'van', 'bus', 'van', 'opel', 'saab', 'opel', 'saab',\n",
       "       'opel', 'bus', 'van', 'saab', 'saab', 'opel', 'opel', 'saab',\n",
       "       'saab', 'saab', 'van', 'van', 'bus', 'opel', 'saab', 'saab',\n",
       "       'saab', 'van', 'bus', 'bus', 'opel', 'van', 'opel', 'saab', 'van',\n",
       "       'bus', 'van', 'bus', 'bus', 'van', 'bus', 'opel', 'bus', 'opel',\n",
       "       'bus', 'saab', 'opel', 'van', 'saab', 'saab', 'van', 'van', 'bus',\n",
       "       'opel', 'saab', 'van', 'bus', 'saab', 'saab', 'bus', 'bus', 'saab',\n",
       "       'saab', 'bus', 'van', 'opel', 'bus', 'saab', 'van', 'van', 'saab',\n",
       "       'saab', 'opel', 'saab', 'saab', 'bus', 'bus', 'saab', 'van', 'van',\n",
       "       'bus', 'van', 'saab', 'bus', 'saab', 'van', 'saab', 'bus', 'opel',\n",
       "       'opel', 'saab', 'saab', 'opel', 'van', 'van', 'saab', 'saab',\n",
       "       'saab', 'bus', 'opel', 'opel', 'bus', 'van', 'saab', 'bus', 'bus',\n",
       "       'saab', 'saab', 'saab', 'van', 'saab', 'van', 'bus', 'bus', 'van',\n",
       "       'opel', 'opel', 'opel', 'van', 'saab', 'bus', 'van', 'opel',\n",
       "       'opel', 'saab', 'van', 'bus', 'bus', 'bus', 'saab', 'bus', 'saab',\n",
       "       'opel', 'bus', 'saab', 'saab', 'saab', 'opel', 'van', 'bus',\n",
       "       'opel', 'opel', 'opel', 'bus', 'saab', 'saab', 'opel', 'opel',\n",
       "       'opel', 'bus', 'opel', 'opel', 'saab', 'van', 'opel', 'van',\n",
       "       'saab', 'van', 'bus', 'van', 'van', 'opel', 'saab', 'bus', 'van',\n",
       "       'bus', 'bus', 'saab', 'bus', 'van', 'saab', 'saab', 'saab', 'saab',\n",
       "       'bus', 'van', 'saab', 'van'], dtype=object)"
      ]
     },
     "execution_count": 53,
     "metadata": {},
     "output_type": "execute_result"
    }
   ],
   "source": [
    "from sklearn.neighbors import KNeighborsClassifier\n",
    "# Importando el clasificador KNN\n",
    "\n",
    "# Inicializando el clasificador con la variable n_neighbors en 1\n",
    "knn = KNeighborsClassifier(n_neighbors=1)\n",
    "\n",
    "# Se entrena el clasificador con los datos de entrenamiento\n",
    "knn.fit(X_train, y_train)\n",
    "# Se hacen predicciones con los datos de prueba\n",
    "predicciones = knn.predict(X_test)\n",
    "predicciones\n",
    "\n"
   ]
  },
  {
   "cell_type": "code",
   "execution_count": 54,
   "id": "61fd20e4",
   "metadata": {},
   "outputs": [
    {
     "name": "stdout",
     "output_type": "stream",
     "text": [
      "[[61  4 12  1]\n",
      " [ 0 17 26  4]\n",
      " [ 4 32 34  1]\n",
      " [ 2  2  3 51]]\n"
     ]
    }
   ],
   "source": [
    "from sklearn.metrics import classification_report, confusion_matrix\n",
    "# Importando las métricas de clasificación y matriz de confusión\n",
    "# Se imprime la matriz de confusión\n",
    "print(confusion_matrix(y_test, predicciones))"
   ]
  },
  {
   "cell_type": "code",
   "execution_count": 55,
   "id": "6e67f9e9",
   "metadata": {},
   "outputs": [
    {
     "name": "stdout",
     "output_type": "stream",
     "text": [
      "              precision    recall  f1-score   support\n",
      "\n",
      "         bus       0.91      0.78      0.84        78\n",
      "        opel       0.31      0.36      0.33        47\n",
      "        saab       0.45      0.48      0.47        71\n",
      "         van       0.89      0.88      0.89        58\n",
      "\n",
      "    accuracy                           0.64       254\n",
      "   macro avg       0.64      0.63      0.63       254\n",
      "weighted avg       0.67      0.64      0.65       254\n",
      "\n"
     ]
    }
   ],
   "source": [
    "print(classification_report(y_test, predicciones))\n",
    "# Se imprime el reporte de clasificación"
   ]
  },
  {
   "cell_type": "markdown",
   "id": "945d1fa1",
   "metadata": {},
   "source": [
    "Podemos calcular el valor para n_neighbors más óptimo"
   ]
  },
  {
   "cell_type": "code",
   "execution_count": 56,
   "id": "dbc23eef",
   "metadata": {},
   "outputs": [
    {
     "data": {
      "image/png": "[encoded data removed]",
      "text/plain": [
       "<Figure size 1000x600 with 1 Axes>"
      ]
     },
     "metadata": {},
     "output_type": "display_data"
    }
   ],
   "source": [
    "tasa_error = []\n",
    "for i in range(1, 50):\n",
    "    knn = KNeighborsClassifier(n_neighbors=i)\n",
    "    knn.fit(X_train, y_train)\n",
    "    predicciones = knn.predict(X_test)\n",
    "    tasa_error.append(np.mean(predicciones != y_test))\n",
    "# Se calcula la tasa de error para cada valor de k\n",
    "plt.figure(figsize=(10, 6))\n",
    "plt.plot(range(1, 50), tasa_error, color='blue', linestyle='dashed', marker='o', markerfacecolor='red', markersize=10)\n",
    "plt.title('Tasa de error vs. K vecinos')\n",
    "plt.xlabel('K vecinos')\n",
    "plt.ylabel('Tasa de error')\n",
    "plt.show()\n",
    "# Se grafica la tasa de error en función de k"
   ]
  },
  {
   "cell_type": "markdown",
   "id": "ce84b3b0",
   "metadata": {},
   "source": [
    "Vemos que el valor 3 es el que mejores resultados de precisión proporciona para este entrenamiento por lo que podemos usarlo para entrenar de nuevo el modelo de la forma más óptima."
   ]
  },
  {
   "cell_type": "code",
   "execution_count": 57,
   "id": "7797c8e4",
   "metadata": {},
   "outputs": [
    {
     "data": {
      "text/plain": [
       "array(['bus', 'van', 'bus', 'bus', 'bus', 'van', 'van', 'saab', 'bus',\n",
       "       'saab', 'saab', 'bus', 'bus', 'saab', 'opel', 'van', 'bus', 'opel',\n",
       "       'opel', 'saab', 'van', 'van', 'opel', 'opel', 'saab', 'opel',\n",
       "       'opel', 'van', 'van', 'van', 'saab', 'van', 'bus', 'van', 'van',\n",
       "       'bus', 'saab', 'saab', 'bus', 'opel', 'van', 'bus', 'opel', 'van',\n",
       "       'saab', 'opel', 'bus', 'van', 'bus', 'van', 'bus', 'opel', 'opel',\n",
       "       'van', 'bus', 'saab', 'opel', 'opel', 'opel', 'saab', 'bus',\n",
       "       'opel', 'bus', 'saab', 'bus', 'bus', 'saab', 'saab', 'bus', 'saab',\n",
       "       'van', 'bus', 'saab', 'bus', 'van', 'opel', 'saab', 'opel', 'opel',\n",
       "       'van', 'bus', 'van', 'opel', 'saab', 'opel', 'saab', 'bus', 'bus',\n",
       "       'van', 'saab', 'saab', 'opel', 'bus', 'saab', 'saab', 'bus', 'van',\n",
       "       'van', 'bus', 'opel', 'saab', 'saab', 'saab', 'van', 'bus', 'bus',\n",
       "       'opel', 'van', 'opel', 'saab', 'van', 'bus', 'van', 'bus', 'bus',\n",
       "       'van', 'bus', 'opel', 'bus', 'opel', 'bus', 'saab', 'saab', 'van',\n",
       "       'bus', 'saab', 'van', 'van', 'opel', 'opel', 'bus', 'van', 'bus',\n",
       "       'opel', 'saab', 'bus', 'bus', 'opel', 'saab', 'bus', 'van', 'opel',\n",
       "       'bus', 'saab', 'van', 'van', 'opel', 'saab', 'saab', 'saab',\n",
       "       'saab', 'bus', 'bus', 'saab', 'van', 'van', 'bus', 'van', 'opel',\n",
       "       'bus', 'saab', 'van', 'opel', 'opel', 'opel', 'opel', 'saab',\n",
       "       'saab', 'opel', 'van', 'van', 'opel', 'saab', 'saab', 'bus',\n",
       "       'opel', 'opel', 'bus', 'van', 'opel', 'bus', 'bus', 'opel', 'saab',\n",
       "       'bus', 'van', 'bus', 'van', 'bus', 'bus', 'van', 'bus', 'opel',\n",
       "       'bus', 'van', 'saab', 'bus', 'van', 'opel', 'saab', 'opel', 'van',\n",
       "       'bus', 'bus', 'bus', 'saab', 'bus', 'saab', 'opel', 'bus', 'saab',\n",
       "       'opel', 'opel', 'opel', 'van', 'bus', 'saab', 'saab', 'opel',\n",
       "       'saab', 'saab', 'bus', 'opel', 'opel', 'opel', 'opel', 'opel',\n",
       "       'opel', 'saab', 'van', 'opel', 'van', 'saab', 'van', 'bus', 'van',\n",
       "       'van', 'opel', 'opel', 'saab', 'van', 'bus', 'bus', 'bus', 'bus',\n",
       "       'van', 'saab', 'saab', 'saab', 'saab', 'saab', 'opel', 'opel',\n",
       "       'van'], dtype=object)"
      ]
     },
     "execution_count": 57,
     "metadata": {},
     "output_type": "execute_result"
    }
   ],
   "source": [
    "knn = KNeighborsClassifier(n_neighbors=3)\n",
    "\n",
    "# Se entrena el clasificador con los datos de entrenamiento\n",
    "knn.fit(X_train, y_train)\n",
    "# Se hacen predicciones con los datos de prueba\n",
    "predicciones = knn.predict(X_test)\n",
    "predicciones"
   ]
  },
  {
   "cell_type": "code",
   "execution_count": 58,
   "id": "02c6c71f",
   "metadata": {},
   "outputs": [
    {
     "name": "stdout",
     "output_type": "stream",
     "text": [
      "[[61  6 10  1]\n",
      " [ 1 23 21  2]\n",
      " [ 8 31 31  1]\n",
      " [ 1  3  0 54]]\n"
     ]
    }
   ],
   "source": [
    "from sklearn.metrics import classification_report, confusion_matrix\n",
    "# Importando las métricas de clasificación y matriz de confusión\n",
    "# Se imprime la matriz de confusión\n",
    "print(confusion_matrix(y_test, predicciones))"
   ]
  },
  {
   "cell_type": "code",
   "execution_count": 59,
   "id": "d06a3be4",
   "metadata": {},
   "outputs": [
    {
     "name": "stdout",
     "output_type": "stream",
     "text": [
      "              precision    recall  f1-score   support\n",
      "\n",
      "         bus       0.86      0.78      0.82        78\n",
      "        opel       0.37      0.49      0.42        47\n",
      "        saab       0.50      0.44      0.47        71\n",
      "         van       0.93      0.93      0.93        58\n",
      "\n",
      "    accuracy                           0.67       254\n",
      "   macro avg       0.66      0.66      0.66       254\n",
      "weighted avg       0.68      0.67      0.67       254\n",
      "\n"
     ]
    }
   ],
   "source": [
    "print(classification_report(y_test, predicciones))\n",
    "# Se imprime el reporte de clasificación"
   ]
  },
  {
   "cell_type": "markdown",
   "id": "03ac4e77",
   "metadata": {},
   "source": [
    "Aquí podemos ver como han mejorado las tasas de precisión del modelo."
   ]
  },
  {
   "cell_type": "markdown",
   "id": "bfc23b5a",
   "metadata": {},
   "source": []
  }
 ],
 "metadata": {
  "kernelspec": {
   "display_name": "Python 3",
   "language": "python",
   "name": "python3"
  },
  "language_info": {
   "codemirror_mode": {
    "name": "ipython",
    "version": 3
   },
   "file_extension": ".py",
   "mimetype": "text/x-python",
   "name": "python",
   "nbconvert_exporter": "python",
   "pygments_lexer": "ipython3",
   "version": "3.13.3"
  }
 },
 "nbformat": 4,
 "nbformat_minor": 5
}
