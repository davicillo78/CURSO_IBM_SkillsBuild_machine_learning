{
 "cells": [
  {
   "cell_type": "markdown",
   "id": "84f424eb",
   "metadata": {},
   "source": [
    "### Sckit-Learn para aprendizaje automático ###\n",
    "\n",
    "Tipos de aprendizaje:\n",
    "\n",
    "- Supervisado: utiliza datos previamente etiquetados para aprender a resolver problemas futuros similares.\n",
    "- No supervisado: utiliza indicaciones previas, que le enseñan a comprender la información proporcionada (sin etiquetar) para resolver problemas futuros similares.\n",
    "- Aprendizaje de refuerzo: es un algoritmo que aprende por su cuenta en base a unos conocimientos previamente introducidos. En base al feedback bueno o malo que recibe de su tarea, éste ajusta sus parámetros para realizar mejores predicciones."
   ]
  },
  {
   "cell_type": "code",
   "execution_count": 1,
   "id": "7629bac6",
   "metadata": {},
   "outputs": [
    {
     "name": "stdout",
     "output_type": "stream",
     "text": [
      "Defaulting to user installation because normal site-packages is not writeable\n",
      "Collecting scikit-learn\n",
      "  Downloading scikit_learn-1.6.1-cp313-cp313-win_amd64.whl.metadata (15 kB)\n",
      "Requirement already satisfied: numpy>=1.19.5 in c:\\users\\david\\appdata\\local\\packages\\pythonsoftwarefoundation.python.3.13_qbz5n2kfra8p0\\localcache\\local-packages\\python313\\site-packages (from scikit-learn) (2.2.5)\n",
      "Collecting scipy>=1.6.0 (from scikit-learn)\n",
      "  Downloading scipy-1.15.2-cp313-cp313-win_amd64.whl.metadata (60 kB)\n",
      "Collecting joblib>=1.2.0 (from scikit-learn)\n",
      "  Using cached joblib-1.4.2-py3-none-any.whl.metadata (5.4 kB)\n",
      "Collecting threadpoolctl>=3.1.0 (from scikit-learn)\n",
      "  Downloading threadpoolctl-3.6.0-py3-none-any.whl.metadata (13 kB)\n",
      "Downloading scikit_learn-1.6.1-cp313-cp313-win_amd64.whl (11.1 MB)\n",
      "   ---------------------------------------- 0.0/11.1 MB ? eta -:--:--\n",
      "   ---------------------------------------  11.0/11.1 MB 62.8 MB/s eta 0:00:01\n",
      "   ---------------------------------------- 11.1/11.1 MB 53.3 MB/s eta 0:00:00\n",
      "Using cached joblib-1.4.2-py3-none-any.whl (301 kB)\n",
      "Downloading scipy-1.15.2-cp313-cp313-win_amd64.whl (41.0 MB)\n",
      "   ---------------------------------------- 0.0/41.0 MB ? eta -:--:--\n",
      "   ----------- ---------------------------- 11.5/41.0 MB 53.0 MB/s eta 0:00:01\n",
      "   --------------------- ------------------ 22.3/41.0 MB 53.1 MB/s eta 0:00:01\n",
      "   --------------------------------- ------ 34.6/41.0 MB 55.8 MB/s eta 0:00:01\n",
      "   ---------------------------------------- 41.0/41.0 MB 51.7 MB/s eta 0:00:00\n",
      "Downloading threadpoolctl-3.6.0-py3-none-any.whl (18 kB)\n",
      "Installing collected packages: threadpoolctl, scipy, joblib, scikit-learn\n",
      "Successfully installed joblib-1.4.2 scikit-learn-1.6.1 scipy-1.15.2 threadpoolctl-3.6.0\n"
     ]
    },
    {
     "name": "stderr",
     "output_type": "stream",
     "text": [
      "\n",
      "[notice] A new release of pip is available: 25.0.1 -> 25.1\n",
      "[notice] To update, run: C:\\Users\\David\\AppData\\Local\\Microsoft\\WindowsApps\\PythonSoftwareFoundation.Python.3.13_qbz5n2kfra8p0\\python.exe -m pip install --upgrade pip\n"
     ]
    }
   ],
   "source": [
    "!pip install scikit-learn"
   ]
  },
  {
   "cell_type": "markdown",
   "id": "5d16b965",
   "metadata": {},
   "source": [
    "##### Modo de utilización de scikit-learn #####\n",
    "\n",
    "- Importar el modelo que vayamos a utilizar:\n",
    "\n",
    "    ```from sklearn.linear_model import LinearRegression```\n",
    "\n",
    "- Inicializar los parámetros del modelo:\n",
    "\n",
    "    ```modelo = LinearRegression(normalize = True)```\n",
    "\n",
    "- Los datos disponibles se dividen en datos de entrenamiento y datos de prueba\n",
    "\n",
    "    ```(train_test_split)```\n",
    "\n",
    "- Entrenar el modelo con los datos de entrenamiento\n",
    "\n",
    "    ```modelo.fit(X_train, y_train)```\n",
    "\n",
    "- Predecir las etiquetas o valores para los datos\n",
    "\n",
    "    ```predicciones = modelo.predict(X_test)```\n",
    "\n",
    "- Ahora podemos evaluar el modelo, comparando las predicciones con los valores correctos de prueba"
   ]
  },
  {
   "cell_type": "markdown",
   "id": "1d8bb3f6",
   "metadata": {},
   "source": []
  }
 ],
 "metadata": {
  "kernelspec": {
   "display_name": "Python 3",
   "language": "python",
   "name": "python3"
  },
  "language_info": {
   "codemirror_mode": {
    "name": "ipython",
    "version": 3
   },
   "file_extension": ".py",
   "mimetype": "text/x-python",
   "name": "python",
   "nbconvert_exporter": "python",
   "pygments_lexer": "ipython3",
   "version": "3.13.3"
  }
 },
 "nbformat": 4,
 "nbformat_minor": 5
}
